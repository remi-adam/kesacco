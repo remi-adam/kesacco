{
 "cells": [
  {
   "cell_type": "raw",
   "metadata": {},
   "source": [
    "This notebook compute the uncertainty associated with the model grid due to interpolation"
   ]
  },
  {
   "cell_type": "markdown",
   "metadata": {},
   "source": [
    "# Import"
   ]
  },
  {
   "cell_type": "code",
   "execution_count": 2,
   "metadata": {
    "scrolled": true
   },
   "outputs": [],
   "source": [
    "import astropy.units as u\n",
    "from astropy.coordinates.sky_coordinate import SkyCoord\n",
    "from astropy.io import fits\n",
    "import numpy as np\n",
    "import matplotlib.pyplot as plt\n",
    "import os\n",
    "import copy\n",
    "\n",
    "from kesacco import clustpipe\n",
    "from kesacco.Tools import mcmc_spectralimaging2 as mc"
   ]
  },
  {
   "cell_type": "code",
   "execution_count": null,
   "metadata": {},
   "outputs": [],
   "source": []
  },
  {
   "cell_type": "code",
   "execution_count": 3,
   "metadata": {},
   "outputs": [
    {
     "name": "stdout",
     "output_type": "stream",
     "text": [
      "===============================================================\n",
      "             _  __  ___    __    __     ___   ___   __         \n",
      "            | |/ / | __| /' _/  /  \\   / _/  / _/  /__\\        \n",
      "            |   <  | _|  `._`. | /\\ | | \\__ | \\__ | \\/ |       \n",
      "            |_|\\_\\ |___| |___/ |_||_|  \\__/  \\__/  \\__/        \n",
      "===============================================================\n",
      "Keen Event Simulation and Analysis for CTA Cluster Observations\n",
      "---------------------------------------------------------------\n"
     ]
    }
   ],
   "source": [
    "cpipe = clustpipe.ClusterPipe(silent=False, output_dir='/Users/adam/Project/CTA/Phys/Outputs/KESACCO_Dev')"
   ]
  },
  {
   "cell_type": "code",
   "execution_count": 4,
   "metadata": {},
   "outputs": [],
   "source": [
    "# Set the cluster basic properties\n",
    "cpipe.cluster.name     = 'Perseus'\n",
    "cpipe.cluster.redshift = 0.017284\n",
    "cpipe.cluster.M500     = 6.2e14*u.solMass # Used for getting R500 and the pressure profile\n",
    "cpipe.cluster.coord    = SkyCoord(\"3h19m47.2s +41d30m47s\", frame='icrs')\n",
    "\n",
    "# Truncate the cluster at 1.5 deg to allow small map field of view (for faster code) without loss of flux\n",
    "cpipe.cluster.theta_truncation = 1.5*u.deg\n",
    "\n",
    "# The target gas density [Churazov et al. 2003]\n",
    "cpipe.cluster.density_gas_model = {'name':'doublebeta', 'beta1':1.2, 'r_c1':57*u.kpc, 'n_01':0.046*u.cm**-3,\n",
    "                                   'beta2':0.71, 'r_c2':278*u.kpc, 'n_02':0.0036*u.cm**-3}\n",
    "\n",
    "# The thermal profile (assuming Planck 2013 UPP)\n",
    "cpipe.cluster.set_pressure_gas_gNFW_param('P13UPP')\n",
    "\n",
    "# CR physics\n",
    "cpipe.cluster.X_cre1_E = {'X':0.0, 'R_norm':cpipe.cluster.R500}\n",
    "cpipe.cluster.spectrum_crp_model = {'name':'PowerLaw', 'Index':2.2}\n",
    "cpipe.cluster.set_density_crp_isobaric_scal_param(scal=1.0)\n",
    "cpipe.cluster.X_crp_E = {'X':1.0, 'R_norm':cpipe.cluster.R500}\n",
    "\n",
    "# Sampling\n",
    "cpipe.cluster.map_reso = 0.01*u.deg      # Ideally should be few times smaller than the PSF\n",
    "cpipe.cluster.Npt_per_decade_integ = 30"
   ]
  },
  {
   "cell_type": "code",
   "execution_count": 10,
   "metadata": {},
   "outputs": [],
   "source": [
    "cpipe.obs_setup.add_obs(obsid='001', name='Perseus_Ptg1', \n",
    "                        coord=SkyCoord(cpipe.cluster.coord.ra.value+0, cpipe.cluster.coord.dec.value+1, unit='deg'),\n",
    "                        rad=5*u.deg,\n",
    "                        emin=0.05*u.TeV, emax=100*u.TeV,\n",
    "                        caldb='prod3b-v2', irf='North_z20_S_5h',\n",
    "                        tmin='2020-01-01T00:00:00.0', tmax='2020-01-01T01:00:00.0', deadc=0.95)"
   ]
  },
  {
   "cell_type": "code",
   "execution_count": 15,
   "metadata": {},
   "outputs": [],
   "source": [
    "#----- Analysis parameters\n",
    "cpipe.method_binned = True    # Do a binned analysis\n",
    "cpipe.method_stack  = True    # Stack the event from different observations in a single analysis?\n",
    "cpipe.method_ana    = '3D'    # 3D or ONOFF analysis\n",
    "cpipe.spec_enumbins = 30\n",
    "cpipe.spec_emin     = 50*u.GeV\n",
    "cpipe.spec_emax     = 10*u.TeV\n",
    "cpipe.spec_edisp    = False\n",
    "\n",
    "# Force the use of the user defined map grid\n",
    "cpipe.map_UsePtgRef     = True\n",
    "# Define the map used for the binned analysis\n",
    "cpipe.map_reso          = 0.05*u.deg # Can be increaded if the code is too slow\n",
    "cpipe.map_fov           = 3*u.deg    # Can also be reduced (but should increase bkg-cluster degeneracy)\n",
    "cpipe.map_coord         = copy.deepcopy(cpipe.cluster.coord)\n",
    "# Define the map used for the template\n",
    "cpipe.cluster.map_fov   = 2.1*cpipe.cluster.theta_truncation\n",
    "cpipe.cluster.map_coord = copy.deepcopy(cpipe.cluster.coord)"
   ]
  },
  {
   "cell_type": "code",
   "execution_count": 16,
   "metadata": {},
   "outputs": [],
   "source": [
    "data, modgrid = mc.read_data([cpipe.output_dir+'/Ana_Countscube.fits',\n",
    "                              cpipe.output_dir+'/Ana_MCMC_SpecImg2/Grid_Sampling.fits'])"
   ]
  },
  {
   "cell_type": "code",
   "execution_count": 17,
   "metadata": {},
   "outputs": [],
   "source": [
    "param = [1.0, 1.2, 2.3, 1.0, 0.0, 1.0, 0.0, 1.0, 0.0]"
   ]
  },
  {
   "cell_type": "code",
   "execution_count": 18,
   "metadata": {},
   "outputs": [],
   "source": [
    "model_mcmc = mc.model_specimg(modgrid, param)"
   ]
  },
  {
   "cell_type": "code",
   "execution_count": 19,
   "metadata": {},
   "outputs": [
    {
     "name": "stdout",
     "output_type": "stream",
     "text": [
      "--- Building cluster template 1/1\n",
      "    ---> spectral = 2.3, spatial = 1.2\n",
      "--- Building background template 1/1\n",
      "    ---> spectral value = 0.0\n"
     ]
    },
    {
     "name": "stderr",
     "output_type": "stream",
     "text": [
      "/Users/adam/Project/anaconda3/envs/ctaphys/lib/python3.7/site-packages/numpy/core/_asarray.py:136: VisibleDeprecationWarning: Creating an ndarray from ragged nested sequences (which is a list-or-tuple of lists-or-tuples-or ndarrays with different lengths or shapes) is deprecated. If you meant to do this, you must specify 'dtype=object' when creating the ndarray\n",
      "  return array(a, dtype, copy=False, order=order, subok=True)\n"
     ]
    }
   ],
   "source": [
    "rad      = np.logspace(-1,5,10000)*u.kpc\n",
    "prof_ini = cpipe.cluster._get_generic_profile(rad, cpipe.cluster.density_crp_model)\n",
    "subdir = '/Users/adam/Desktop/'\n",
    "\n",
    "mc.build_model_grid(cpipe, subdir, rad, prof_ini,\n",
    "                     np.array([param[1]]),np.array([0]),\n",
    "                     np.array([param[2]]),np.array([1]),\n",
    "                     np.array([param[4]]),np.array([0]),\n",
    "                     np.array([param[6]]),np.array([0]),\n",
    "                     includeIC=False,\n",
    "                     rm_tmp=False)"
   ]
  },
  {
   "cell_type": "code",
   "execution_count": 20,
   "metadata": {},
   "outputs": [],
   "source": [
    "model_cl_true  = fits.open(subdir+'/Model_Cluster_Cube_TMP_0_0.fits')[0].data\n",
    "model_bk_true  = fits.open(subdir+'/Model_Background_Cube_TMP_0.fits')[0].data\n",
    "model_ngc_true = fits.open(subdir+'/Model_NGC1275_Cube_TMP_0.fits')[0].data\n",
    "model_ic_true  = fits.open(subdir+'/Model_IC310_Cube_TMP_0.fits')[0].data"
   ]
  },
  {
   "cell_type": "code",
   "execution_count": 21,
   "metadata": {},
   "outputs": [
    {
     "name": "stderr",
     "output_type": "stream",
     "text": [
      "/Users/adam/Project/anaconda3/envs/ctaphys/lib/python3.7/site-packages/ipykernel_launcher.py:10: RuntimeWarning: divide by zero encountered in true_divide\n",
      "  # Remove the CWD from sys.path while we load stuff.\n",
      "/Users/adam/Project/anaconda3/envs/ctaphys/lib/python3.7/site-packages/ipykernel_launcher.py:10: RuntimeWarning: invalid value encountered in true_divide\n",
      "  # Remove the CWD from sys.path while we load stuff.\n"
     ]
    },
    {
     "data": {
      "text/plain": [
       "<matplotlib.colorbar.Colorbar at 0x1a1e277e10>"
      ]
     },
     "execution_count": 21,
     "metadata": {},
     "output_type": "execute_result"
    },
    {
     "data": {
      "image/png": "[encoded data removed]",
      "text/plain": [
       "<Figure size 1296x504 with 6 Axes>"
      ]
     },
     "metadata": {
      "needs_background": "light"
     },
     "output_type": "display_data"
    }
   ],
   "source": [
    "ibin = 20\n",
    "fig = plt.figure(0, figsize=(18, 7))\n",
    "ax = plt.subplot(131)\n",
    "plt.imshow(model_mcmc['cluster'][ibin,:,:], origin='lower')\n",
    "plt.colorbar()\n",
    "ax = plt.subplot(132)\n",
    "plt.imshow(model_cl_true[ibin,:,:], origin='lower')\n",
    "plt.colorbar()\n",
    "ax = plt.subplot(133)\n",
    "plt.imshow((model_cl_true[ibin,:,:]-model_mcmc['cluster'][ibin,:,:])/model_cl_true[ibin,:,:]**0.5, origin='lower')\n",
    "plt.colorbar()"
   ]
  },
  {
   "cell_type": "code",
   "execution_count": null,
   "metadata": {},
   "outputs": [],
   "source": []
  }
 ],
 "metadata": {
  "kernelspec": {
   "display_name": "Python 3",
   "language": "python",
   "name": "python3"
  },
  "language_info": {
   "codemirror_mode": {
    "name": "ipython",
    "version": 3
   },
   "file_extension": ".py",
   "mimetype": "text/x-python",
   "name": "python",
   "nbconvert_exporter": "python",
   "pygments_lexer": "ipython3",
   "version": "3.7.7"
  }
 },
 "nbformat": 4,
 "nbformat_minor": 2
}

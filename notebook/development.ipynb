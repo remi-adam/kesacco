{
 "cells": [
  {
   "cell_type": "raw",
   "metadata": {},
   "source": [
    "This notebook is used for developements dedicated to test and build the Cluster simulation with CTA."
   ]
  },
  {
   "cell_type": "markdown",
   "metadata": {},
   "source": [
    "# Import"
   ]
  },
  {
   "cell_type": "code",
   "execution_count": 1,
   "metadata": {
    "scrolled": true
   },
   "outputs": [],
   "source": [
    "import astropy.units as u\n",
    "from astropy.coordinates.sky_coordinate import SkyCoord\n",
    "from astropy.io import fits\n",
    "import numpy as np\n",
    "import matplotlib.pyplot as plt\n",
    "import os\n",
    "import copy\n",
    "\n",
    "from kesacco import clustpipe"
   ]
  },
  {
   "cell_type": "markdown",
   "metadata": {},
   "source": [
    "# Parameters"
   ]
  },
  {
   "cell_type": "markdown",
   "metadata": {},
   "source": [
    "### Define the simulation"
   ]
  },
  {
   "cell_type": "code",
   "execution_count": 2,
   "metadata": {},
   "outputs": [
    {
     "name": "stdout",
     "output_type": "stream",
     "text": [
      "===============================================================\n",
      "             _  __  ___    __    __     ___   ___   __         \n",
      "            | |/ / | __| /' _/  /  \\   / _/  / _/  /__\\        \n",
      "            |   <  | _|  `._`. | /\\ | | \\__ | \\__ | \\/ |       \n",
      "            |_|\\_\\ |___| |___/ |_||_|  \\__/  \\__/  \\__/        \n",
      "===============================================================\n",
      "Keen Event Simulation and Analysis for CTA Cluster Observations\n",
      "---------------------------------------------------------------\n"
     ]
    }
   ],
   "source": [
    "cpipe = clustpipe.ClusterPipe(silent=False, output_dir='/Users/adam/Project/CTA/Phys/Outputs/KESACCO_Dev')"
   ]
  },
  {
   "cell_type": "markdown",
   "metadata": {},
   "source": [
    "### Define the cluster object"
   ]
  },
  {
   "cell_type": "code",
   "execution_count": 3,
   "metadata": {},
   "outputs": [
    {
     "name": "stdout",
     "output_type": "stream",
     "text": [
      "--- silent\n",
      "    True\n",
      "    <class 'bool'>\n",
      "--- output_dir\n",
      "    /Users/adam/Project/CTA/Phys/Outputs/KESACCO_Dev\n",
      "    <class 'str'>\n",
      "--- cosmo\n",
      "    FlatLambdaCDM(name=\"Planck15\", H0=67.7 km / (Mpc s), Om0=0.307, Tcmb0=2.725 K, Neff=3.05, m_nu=[0.   0.   0.06] eV, Ob0=0.0486)\n",
      "    <class 'astropy.cosmology.core.FlatLambdaCDM'>\n",
      "--- name\n",
      "    Perseus\n",
      "    <class 'str'>\n",
      "--- coord\n",
      "    <SkyCoord (ICRS): (ra, dec) in deg\n",
      "    (49.94666667, 41.51305556)>\n",
      "    <class 'astropy.coordinates.sky_coordinate.SkyCoord'>\n",
      "--- redshift\n",
      "    0.017284\n",
      "    <class 'float'>\n",
      "--- D_ang\n",
      "    74.8907830317466 Mpc\n",
      "    <class 'astropy.units.quantity.Quantity'>\n",
      "--- D_lum\n",
      "    77.50198024167615 Mpc\n",
      "    <class 'astropy.units.quantity.Quantity'>\n",
      "--- M500\n",
      "    620000000000000.0 solMass\n",
      "    <class 'astropy.units.quantity.Quantity'>\n",
      "--- R500\n",
      "    1317.548394363056 kpc\n",
      "    <class 'astropy.units.quantity.Quantity'>\n",
      "--- theta500\n",
      "    1.0080007077672122 deg\n",
      "    <class 'astropy.units.quantity.Quantity'>\n",
      "--- R_truncation\n",
      "    1.9606361149510187 Mpc\n",
      "    <class 'astropy.units.quantity.Quantity'>\n",
      "--- theta_truncation\n",
      "    1.5 deg\n",
      "    <class 'astropy.units.quantity.Quantity'>\n",
      "--- helium_mass_fraction\n",
      "    0.2735\n",
      "    <class 'float'>\n",
      "--- metallicity_sol\n",
      "    0.0153\n",
      "    <class 'float'>\n",
      "--- abundance\n",
      "    0.3\n",
      "    <class 'float'>\n",
      "--- EBL_model\n",
      "    dominguez\n",
      "    <class 'str'>\n",
      "--- Rmin\n",
      "    1.0 kpc\n",
      "    <class 'astropy.units.quantity.Quantity'>\n",
      "--- hse_bias\n",
      "    0.2\n",
      "    <class 'float'>\n",
      "--- X_crp_E\n",
      "    {'X': 1.0, 'R_norm': <Quantity 1317.54839436 kpc>}\n",
      "    <class 'dict'>\n",
      "--- X_cre1_E\n",
      "    {'X': 0.0, 'R_norm': <Quantity 1317.54839436 kpc>}\n",
      "    <class 'dict'>\n",
      "--- Epmin\n",
      "    1.2179339232022073 GeV\n",
      "    <class 'astropy.units.quantity.Quantity'>\n",
      "--- Epmax\n",
      "    10.0 PeV\n",
      "    <class 'astropy.units.quantity.Quantity'>\n",
      "--- Eemin\n",
      "    0.0005109989499961641 GeV\n",
      "    <class 'astropy.units.quantity.Quantity'>\n",
      "--- Eemax\n",
      "    10.0 PeV\n",
      "    <class 'astropy.units.quantity.Quantity'>\n",
      "--- pp_interaction_model\n",
      "    Pythia8\n",
      "    <class 'str'>\n",
      "--- cre1_loss_model\n",
      "    None\n",
      "    <class 'str'>\n",
      "--- pressure_gas_model\n",
      "    {'name': 'GNFW', 'P_0': <Quantity 0.01745823 keV / cm3>, 'c500': 1.81, 'r_p': <Quantity 727.9272897 kpc>, 'a': 1.33, 'b': 4.13, 'c': 0.31}\n",
      "    <class 'dict'>\n",
      "--- density_gas_model\n",
      "    {'name': 'doublebeta', 'n_01': <Quantity 0.046 1 / cm3>, 'r_c1': <Quantity 57. kpc>, 'beta1': 1.2, 'n_02': <Quantity 0.0036 1 / cm3>, 'r_c2': <Quantity 278. kpc>, 'beta2': 0.71}\n",
      "    <class 'dict'>\n",
      "--- density_crp_model\n",
      "    {'name': 'GNFW', 'P_0': <Quantity 1. adu>, 'c500': 1.81, 'r_p': <Quantity 727.9272897 kpc>, 'a': 1.33, 'b': 4.13, 'c': 0.31}\n",
      "    <class 'dict'>\n",
      "--- density_cre1_model\n",
      "    {'name': 'GNFW', 'P_0': <Quantity 1. adu>, 'c500': 1.81, 'r_p': <Quantity 855.62300867 kpc>, 'a': 1.33, 'b': 4.13, 'c': 0.31}\n",
      "    <class 'dict'>\n",
      "--- magfield_model\n",
      "    {'name': 'GNFW', 'P_0': <Quantity 10. uG>, 'c500': 1.81, 'r_p': <Quantity 855.62300867 kpc>, 'a': 1.33, 'b': 2.065, 'c': 0.155}\n",
      "    <class 'dict'>\n",
      "--- spectrum_crp_model\n",
      "    {'name': 'PowerLaw', 'Index': 2.2}\n",
      "    <class 'dict'>\n",
      "--- spectrum_cre1_model\n",
      "    {'name': 'PowerLaw', 'PivotEnergy': <Quantity 1. TeV>, 'Index': 3.0}\n",
      "    <class 'dict'>\n",
      "--- Npt_per_decade_integ\n",
      "    30\n",
      "    <class 'int'>\n",
      "--- map_coord\n",
      "    <SkyCoord (ICRS): (ra, dec) in deg\n",
      "    (0., 0.)>\n",
      "    <class 'astropy.coordinates.sky_coordinate.SkyCoord'>\n",
      "--- map_reso\n",
      "    0.01 deg\n",
      "    <class 'astropy.units.quantity.Quantity'>\n",
      "--- map_fov\n",
      "    [5. 5.] deg\n",
      "    <class 'astropy.units.quantity.Quantity'>\n",
      "--- map_header\n",
      "    None\n",
      "    <class 'NoneType'>\n"
     ]
    }
   ],
   "source": [
    "# Set the cluster basic properties\n",
    "cpipe.cluster.name     = 'Perseus'\n",
    "cpipe.cluster.redshift = 0.017284\n",
    "cpipe.cluster.M500     = 6.2e14*u.solMass # Used for getting R500 and the pressure profile\n",
    "cpipe.cluster.coord    = SkyCoord(\"3h19m47.2s +41d30m47s\", frame='icrs')\n",
    "\n",
    "# Truncate the cluster at 1.5 deg to allow small map field of view (for faster code) without loss of flux\n",
    "cpipe.cluster.theta_truncation = 1.5*u.deg\n",
    "\n",
    "# The target gas density [Churazov et al. 2003]\n",
    "cpipe.cluster.density_gas_model = {'name':'doublebeta', 'beta1':1.2, 'r_c1':57*u.kpc, 'n_01':0.046*u.cm**-3,\n",
    "                                   'beta2':0.71, 'r_c2':278*u.kpc, 'n_02':0.0036*u.cm**-3}\n",
    "\n",
    "# The thermal profile (assuming Planck 2013 UPP)\n",
    "cpipe.cluster.set_pressure_gas_gNFW_param('P13UPP')\n",
    "\n",
    "# CR physics\n",
    "cpipe.cluster.X_cre1_E = {'X':0.0, 'R_norm':cpipe.cluster.R500}\n",
    "cpipe.cluster.spectrum_crp_model = {'name':'PowerLaw', 'Index':2.2}\n",
    "cpipe.cluster.set_density_crp_isobaric_scal_param(scal=1.0)\n",
    "cpipe.cluster.X_crp_E = {'X':1.0, 'R_norm':cpipe.cluster.R500}\n",
    "\n",
    "# Sampling\n",
    "cpipe.cluster.map_reso = 0.01*u.deg      # Ideally should be few times smaller than the PSF\n",
    "cpipe.cluster.Npt_per_decade_integ = 30\n",
    "\n",
    "# Get information about the state of the cluster model\n",
    "cpipe.cluster.print_param()"
   ]
  },
  {
   "cell_type": "markdown",
   "metadata": {},
   "source": [
    "### Define the point source object"
   ]
  },
  {
   "cell_type": "code",
   "execution_count": 4,
   "metadata": {},
   "outputs": [],
   "source": [
    "name='NGC1275'\n",
    "spatial={'type':'PointSource',\n",
    "         'param':{'RA': {'value':SkyCoord(\"3h19m48.16s +41d30m42s\").ra.to('deg'),  'free':False},\n",
    "                  'DEC':{'value':SkyCoord(\"3h19m48.16s +41d30m42s\").dec.to('deg'), 'free':False}}}\n",
    "spectral={'type':'PowerLaw',\n",
    "          'param':{'Prefactor':{'value':2.1e-11/u.cm**2/u.TeV/u.s, 'free':True},\n",
    "                   'Index':{'value':-3.6, 'free':True},\n",
    "                   'PivotEnergy':{'value':0.2*u.TeV, 'free':False}}}\n",
    "\n",
    "cpipe.compact_source.add_source(name, spatial, spectral, \n",
    "                                redshift=cpipe.cluster.redshift) # Add the source to the model"
   ]
  },
  {
   "cell_type": "code",
   "execution_count": 5,
   "metadata": {},
   "outputs": [],
   "source": [
    "name='IC310'\n",
    "spatial={'type':'PointSource',\n",
    "         'param':{'RA': {'value':SkyCoord(\"3h16m42.98s +41d19m30s\").ra.to('deg'),  'free':False},\n",
    "                  'DEC':{'value':SkyCoord(\"3h16m42.98s +41d19m30s\").dec.to('deg'), 'free':False}}}\n",
    "spectral={'type':'PowerLaw',\n",
    "          'param':{'Prefactor':{'value':4.3e-12/u.cm**2/u.TeV/u.s, 'free':True},\n",
    "                   'Index':{'value':-1.95, 'free':True},\n",
    "                   'PivotEnergy':{'value':1.0*u.TeV, 'free':False}}}\n",
    "\n",
    "cpipe.compact_source.add_source(name, spatial, spectral)# Add the source to the model"
   ]
  },
  {
   "cell_type": "code",
   "execution_count": 6,
   "metadata": {},
   "outputs": [
    {
     "name": "stdout",
     "output_type": "stream",
     "text": [
      "--- NGC1275\n",
      "    -- Spatial model: PointSource\n",
      "         RA: {'value': <Longitude 49.95066667 deg>, 'free': False}\n",
      "         DEC: {'value': <Latitude 41.51166667 deg>, 'free': False}\n",
      "    -- Spectral model: PowerLaw\n",
      "         Prefactor: {'value': <Quantity 2.1e-11 1 / (cm2 s TeV)>, 'free': True}\n",
      "         Index: {'value': -3.6, 'free': True}\n",
      "         PivotEnergy: {'value': <Quantity 0.2 TeV>, 'free': False}\n",
      "    -- Temporal model: Constant\n",
      "         Normalization: {'value': 1.0, 'free': False}\n",
      "--- IC310\n",
      "    -- Spatial model: PointSource\n",
      "         RA: {'value': <Longitude 49.17908333 deg>, 'free': False}\n",
      "         DEC: {'value': <Latitude 41.325 deg>, 'free': False}\n",
      "    -- Spectral model: PowerLaw\n",
      "         Prefactor: {'value': <Quantity 4.3e-12 1 / (cm2 s TeV)>, 'free': True}\n",
      "         Index: {'value': -1.95, 'free': True}\n",
      "         PivotEnergy: {'value': <Quantity 1. TeV>, 'free': False}\n",
      "    -- Temporal model: Constant\n",
      "         Normalization: {'value': 1.0, 'free': False}\n"
     ]
    }
   ],
   "source": [
    "# Show the status of the compact sources in the sky model\n",
    "cpipe.compact_source.print_source()"
   ]
  },
  {
   "cell_type": "markdown",
   "metadata": {},
   "source": [
    "### Define the observations"
   ]
  },
  {
   "cell_type": "code",
   "execution_count": 7,
   "metadata": {},
   "outputs": [
    {
     "name": "stdout",
     "output_type": "stream",
     "text": [
      "=== Perseus_Ptg1, ObsID 001\n",
      "        RA-Dec:    49.94666666666666, 42.51305555555555 deg\n",
      "        GLON-GLAT: 150.0078784158764, -12.426877669678154 deg\n",
      "        ROI rad: 5.0 deg\n",
      "        tmin: 2020-01-01T00:00:00.0\n",
      "        tmax: 2020-01-01T01:00:00.0\n",
      "        emin: 0.05 TeV\n",
      "        emax: 100.0 TeV\n",
      "        deadc: 0.95\n",
      "        caldb: prod3b-v2\n",
      "        irf: North_z20_S_5h\n",
      "        bkg: name Background, obsid None, spatial type CTAIrfBackground, spectral type PowerLaw\n",
      "=== Perseus_Ptg2, ObsID 002\n",
      "        RA-Dec:    49.94666666666666, 40.51305555555555 deg\n",
      "        GLON-GLAT: 151.14097159102025, -14.095338103823554 deg\n",
      "        ROI rad: 5.0 deg\n",
      "        tmin: 2020-01-02T00:00:00.0\n",
      "        tmax: 2020-01-02T01:00:00.0\n",
      "        emin: 0.05 TeV\n",
      "        emax: 100.0 TeV\n",
      "        deadc: 0.95\n",
      "        caldb: prod3b-v2\n",
      "        irf: North_z20_S_5h\n",
      "        bkg: name Background, obsid None, spatial type CTAIrfBackground, spectral type PowerLaw\n",
      "=== Perseus_Ptg3, ObsID 003\n",
      "        RA-Dec:    50.94666666666666, 41.51305555555555 deg\n",
      "        GLON-GLAT: 151.21073146769567, -12.844456316986037 deg\n",
      "        ROI rad: 5.0 deg\n",
      "        tmin: 2020-01-03T00:00:00.0\n",
      "        tmax: 2020-01-03T01:00:00.0\n",
      "        emin: 0.05 TeV\n",
      "        emax: 100.0 TeV\n",
      "        deadc: 0.95\n",
      "        caldb: prod3b-v2\n",
      "        irf: North_z20_S_5h\n",
      "        bkg: name Background, obsid None, spatial type CTAIrfBackground, spectral type PowerLaw\n",
      "=== Perseus_Ptg4, ObsID 004\n",
      "        RA-Dec:    48.94666666666666, 41.51305555555555 deg\n",
      "        GLON-GLAT: 149.9271434329147, -13.670178764290979 deg\n",
      "        ROI rad: 5.0 deg\n",
      "        tmin: 2020-01-04T00:00:00.0\n",
      "        tmax: 2020-01-04T01:00:00.0\n",
      "        emin: 0.05 TeV\n",
      "        emax: 100.0 TeV\n",
      "        deadc: 0.95\n",
      "        caldb: prod3b-v2\n",
      "        irf: North_z20_S_5h\n",
      "        bkg: name Background, obsid None, spatial type CTAIrfBackground, spectral type PowerLaw\n"
     ]
    }
   ],
   "source": [
    "# One pointing offset +0 +1\n",
    "cpipe.obs_setup.add_obs(obsid='001', name='Perseus_Ptg1', \n",
    "                        coord=SkyCoord(cpipe.cluster.coord.ra.value+0, cpipe.cluster.coord.dec.value+1, unit='deg'),\n",
    "                        rad=5*u.deg,\n",
    "                        emin=0.05*u.TeV, emax=100*u.TeV,\n",
    "                        caldb='prod3b-v2', irf='North_z20_S_5h',\n",
    "                        tmin='2020-01-01T00:00:00.0', tmax='2020-01-01T01:00:00.0', deadc=0.95)\n",
    "\n",
    "# One pointing offset +0 -1\n",
    "cpipe.obs_setup.add_obs(obsid='002', name='Perseus_Ptg2', \n",
    "                        coord=SkyCoord(cpipe.cluster.coord.ra.value+0, cpipe.cluster.coord.dec.value-1, unit='deg'),\n",
    "                        rad=5*u.deg, \n",
    "                        emin=0.05*u.TeV, emax=100*u.TeV,\n",
    "                        caldb='prod3b-v2', irf='North_z20_S_5h',\n",
    "                        tmin='2020-01-02T00:00:00.0', tmax='2020-01-02T01:00:00.0', deadc=0.95)\n",
    "\n",
    "# One pointing offset +1 +0\n",
    "cpipe.obs_setup.add_obs(obsid='003', name='Perseus_Ptg3', \n",
    "                        coord=SkyCoord(cpipe.cluster.coord.ra.value+1, cpipe.cluster.coord.dec.value+0, unit='deg'),\n",
    "                        rad=5*u.deg,\n",
    "                        emin=0.05*u.TeV, emax=100*u.TeV,\n",
    "                        caldb='prod3b-v2', irf='North_z20_S_5h',\n",
    "                        tmin='2020-01-03T00:00:00.0', tmax='2020-01-03T01:00:00.0', deadc=0.95)\n",
    "\n",
    "# One pointing offset -1 +0\n",
    "cpipe.obs_setup.add_obs(obsid='004', name='Perseus_Ptg4', \n",
    "                        coord=SkyCoord(cpipe.cluster.coord.ra.value-1, cpipe.cluster.coord.dec.value+0, unit='deg'),\n",
    "                        rad=5*u.deg,\n",
    "                        emin=0.05*u.TeV, emax=100*u.TeV,\n",
    "                        caldb='prod3b-v2', irf='North_z20_S_5h',\n",
    "                        tmin='2020-01-04T00:00:00.0', tmax='2020-01-04T01:00:00.0', deadc=0.95)\n",
    "\n",
    "# Print info\n",
    "cpipe.obs_setup.print_obs()"
   ]
  },
  {
   "cell_type": "markdown",
   "metadata": {},
   "source": [
    "# Run the simulation"
   ]
  },
  {
   "cell_type": "raw",
   "metadata": {},
   "source": [
    "cpipe.run_sim_obs()\n",
    "cpipe.run_sim_quicklook(ShowEvent=True, ShowObsDef=True, ShowSkyModel=True, \n",
    "                        bkgsubtract='NONE', smoothing_FWHM=0.1*u.deg)"
   ]
  },
  {
   "cell_type": "markdown",
   "metadata": {},
   "source": [
    "# Run the analysis"
   ]
  },
  {
   "cell_type": "code",
   "execution_count": 11,
   "metadata": {},
   "outputs": [],
   "source": [
    "#----- Analysis parameters\n",
    "cpipe.method_binned = True    # Do a binned analysis\n",
    "cpipe.method_stack  = True    # Stack the event from different observations in a single analysis?\n",
    "cpipe.method_ana    = '3D'    # 3D or ONOFF analysis\n",
    "cpipe.spec_enumbins = 30\n",
    "cpipe.spec_emin     = 50*u.GeV\n",
    "cpipe.spec_emax     = 10*u.TeV\n",
    "cpipe.spec_edisp    = False\n",
    "\n",
    "# Force the use of the user defined map grid\n",
    "cpipe.map_UsePtgRef     = True\n",
    "# Define the map used for the binned analysis\n",
    "cpipe.map_reso          = 0.05*u.deg # Can be increaded if the code is too slow\n",
    "cpipe.map_fov           = 3*u.deg    # Can also be reduced (but should increase bkg-cluster degeneracy)\n",
    "cpipe.map_coord         = copy.deepcopy(cpipe.cluster.coord)\n",
    "# Define the map used for the template\n",
    "cpipe.cluster.map_fov   = 2.1*cpipe.cluster.theta_truncation\n",
    "cpipe.cluster.map_coord = copy.deepcopy(cpipe.cluster.coord)"
   ]
  },
  {
   "cell_type": "raw",
   "metadata": {},
   "source": [
    "cpipe.run_ana_dataprep(overwrite_data=True, overwrite_irfs=True)"
   ]
  },
  {
   "cell_type": "raw",
   "metadata": {},
   "source": [
    "cpipe.run_ana_likelihood()"
   ]
  },
  {
   "cell_type": "raw",
   "metadata": {},
   "source": [
    "cpipe.run_ana_imaging()"
   ]
  },
  {
   "cell_type": "raw",
   "metadata": {},
   "source": [
    "cpipe.run_ana_spectral()"
   ]
  },
  {
   "cell_type": "raw",
   "metadata": {},
   "source": [
    "cpipe.run_ana_plot()"
   ]
  },
  {
   "cell_type": "code",
   "execution_count": 19,
   "metadata": {},
   "outputs": [
    {
     "name": "stdout",
     "output_type": "stream",
     "text": [
      "\n",
      "======================================================\n",
      "      Starting the MCMC spectral imaging analysis     \n",
      "      (including the background in the grid model)\n",
      "======================================================\n",
      "\n",
      "    Existing sampler: /Users/adam/Project/CTA/Phys/Outputs/KESACCO_Dev/Ana_MCMC_SpecImg2/MCMC_sampler.pkl\n",
      "nwalkers should be at least twice the number of parameters.\n",
      "nwalkers --> 18\n",
      "\n",
      "--- MCMC profile parameters: \n",
      "    ndim                = 9\n",
      "    nwalkers            = 18\n",
      "    nsteps              = 1000\n",
      "    burnin              = 0\n",
      "    conf                = 68.0\n",
      "    reset_mcmc          = False\n",
      "    Gaussian likelihood = False\n",
      "--- Start from already existing sampler\n",
      "--- Runing 1000 MCMC steps\n"
     ]
    },
    {
     "name": "stderr",
     "output_type": "stream",
     "text": [
      "100%|██████████| 1000/1000 [47:22<00:00,  2.84s/it]\n"
     ]
    },
    {
     "name": "stdout",
     "output_type": "stream",
     "text": [
      "param 0 (X_{CRp}/X_{CRp,0}): \n",
      "   median   = 1.0740527505049362 -0.0809522516140383 +0.10484481928072298\n",
      "   best-fit = 1.1181440049020899 -0.12504350601119196 +0.06075356488356931\n",
      "   X_{CRp}/X_{CRp,0} = 1.0740527505049362_{-0.0809522516140383}^{0.10484481928072298}\n",
      "param 1 (\\eta_{CRp}): \n",
      "   median   = 0.9996059056514784 -0.025734742042580305 +0.02266760493270137\n",
      "   best-fit = 1.0028900723215086 -0.02901890871261048 +0.019383438262671193\n",
      "   \\eta_{CRp} = 0.9996059056514784_{-0.025734742042580305}^{0.02266760493270137}\n",
      "param 2 (\\alpha_{CRp}): \n",
      "   median   = 2.2103152074362793 -0.016307524427377817 +0.019933517358722064\n",
      "   best-fit = 2.217895446587431 -0.02388776357852951 +0.012353278207570373\n",
      "   \\alpha_{CRp} = 2.2103152074362793_{-0.016307524427377817}^{0.019933517358722064}\n",
      "param 3 (A_{bkg}): \n",
      "   median   = 1.0008281494712101 -0.007132681258304352 +0.007475470208317514\n",
      "   best-fit = 1.0030930314332718 -0.009397563220366001 +0.005210588246255865\n",
      "   A_{bkg} = 1.0008281494712101_{-0.007132681258304352}^{0.007475470208317514}\n",
      "param 4 (\\alpha_{bkg}): \n",
      "   median   = 0.0022051272159370346 -0.003066661570144802 +0.0031704834233058916\n",
      "   best-fit = 0.002917791858197295 -0.003779326212405062 +0.0024578187810456315\n",
      "   \\alpha_{bkg} = 0.0022051272159370346_{-0.003066661570144802}^{0.0031704834233058916}\n",
      "param 5 (A_{ps,1}): \n",
      "   median   = 0.9039258729056365 -0.1917259350241326 +0.14217412692016151\n",
      "   best-fit = 0.739976951776975 -0.027777013895471048 +0.30612304804882307\n",
      "   A_{ps,1} = 0.9039258729056365_{-0.1917259350241326}^{0.14217412692016151}\n",
      "param 6 (\\alpha_{ps,1}): \n",
      "   median   = -0.09604809541642759 -0.126671889127794 +0.15703903205270214\n",
      "   best-fit = -0.21006458671367667 -0.012655397830544923 +0.2710555233499512\n",
      "   \\alpha_{ps,1} = -0.09604809541642759_{-0.126671889127794}^{0.15703903205270214}\n",
      "param 7 (A_{ps,2}): \n",
      "   median   = 1.0101596152997696 -0.025757968193094505 +0.027223943760258162\n",
      "   best-fit = 1.0026974911618214 -0.018295844055146282 +0.034686067898206385\n",
      "   A_{ps,2} = 1.0101596152997696_{-0.025757968193094505}^{0.027223943760258162}\n",
      "param 8 (\\alpha_{ps,2}): \n",
      "   median   = 0.003625597515411385 -0.02431620429442502 +0.02339252234647878\n",
      "   best-fit = -0.00015250658154132915 -0.020538100197472306 +0.027170626443431493\n",
      "   \\alpha_{ps,2} = 0.003625597515411385_{-0.02431620429442502}^{0.02339252234647878}\n"
     ]
    }
   ],
   "source": [
    "cpipe.mcmc_burnin = 0\n",
    "cpipe.mcmc_nsteps = 1000\n",
    "cpipe.run_ana_mcmc_spectralimaging(reset_modelgrid=False,\n",
    "                                   reset_mcmc=False, run_mcmc=True, GaussLike=False,\n",
    "                                   spatial_range=[0.5,1.5], spatial_npt=9, spectral_range=[2.0,2.6], spectral_npt=9,\n",
    "                                   bkg_marginalize=False,\n",
    "                                   bkg_spectral_npt=13, bkg_spectral_range=[-0.05,0.05],\n",
    "                                   ps_spectral_npt=19, ps_spectral_range=[-0.3,0.3],\n",
    "                                   rm_tmp=False,\n",
    "                                   FWHM=0.1*u.deg,\n",
    "                                   theta=1.0*u.deg,\n",
    "                                   coord=None,\n",
    "                                   profile_reso=0.05*u.deg,\n",
    "                                   includeIC=False)"
   ]
  },
  {
   "cell_type": "code",
   "execution_count": 87,
   "metadata": {},
   "outputs": [
    {
     "name": "stdout",
     "output_type": "stream",
     "text": [
      "=== GModels ===\n",
      " Number of models ..........: 4\n",
      " Number of parameters ......: 19\n",
      "=== GModelSky ===\n",
      " Name ......................: Perseus\n",
      " Instruments ...............: all\n",
      " Test Statistic ............: Computation requested\n",
      " Observation identifiers ...: all\n",
      " Model type ................: DiffuseSource\n",
      " Model components ..........: \"DiffuseMap\" * \"FileFunction\" * \"Constant\"\n",
      " Number of parameters ......: 3\n",
      " Number of spatial par's ...: 1\n",
      "  Normalization ............: 1 [0.001,1000]  (fixed,scale=1,gradient)\n",
      " Number of spectral par's ..: 1\n",
      "  Normalization ............: 1 +/- 0 [0,1000]  (free,scale=1,gradient)\n",
      " Number of temporal par's ..: 1\n",
      "  Normalization ............: 1 (relative value) (fixed,scale=1,gradient)\n",
      " Number of scale par's .....: 0\n",
      "=== GModelSky ===\n",
      " Name ......................: NGC1275\n",
      " Instruments ...............: all\n",
      " Test Statistic ............: Computation requested\n",
      " Observation identifiers ...: all\n",
      " Model type ................: PointSource\n",
      " Model components ..........: \"PointSource\" * \"PowerLaw\" * \"Constant\"\n",
      " Number of parameters ......: 6\n",
      " Number of spatial par's ...: 2\n",
      "  RA .......................: 49.9506666666667 deg (fixed,scale=1)\n",
      "  DEC ......................: 41.5116666666667 deg (fixed,scale=1)\n",
      " Number of spectral par's ..: 3\n",
      "  Prefactor ................: 2.1e-17 +/- 0 [0,infty[ ph/cm2/s/MeV (free,scale=2.1e-17,gradient)\n",
      "  Index ....................: -3.6 +/- 0 [-10,10]  (free,scale=-3.6,gradient)\n",
      "  PivotEnergy ..............: 200000 MeV (fixed,scale=200000,gradient)\n",
      " Number of temporal par's ..: 1\n",
      "  Normalization ............: 1 (relative value) (fixed,scale=1,gradient)\n",
      " Number of scale par's .....: 0\n",
      "=== GModelSky ===\n",
      " Name ......................: IC310\n",
      " Instruments ...............: all\n",
      " Test Statistic ............: Computation requested\n",
      " Observation identifiers ...: all\n",
      " Model type ................: PointSource\n",
      " Model components ..........: \"PointSource\" * \"PowerLaw\" * \"Constant\"\n",
      " Number of parameters ......: 6\n",
      " Number of spatial par's ...: 2\n",
      "  RA .......................: 49.1790833333333 deg (fixed,scale=1)\n",
      "  DEC ......................: 41.325 deg (fixed,scale=1)\n",
      " Number of spectral par's ..: 3\n",
      "  Prefactor ................: 4.3e-18 +/- 0 [0,infty[ ph/cm2/s/MeV (free,scale=4.3e-18,gradient)\n",
      "  Index ....................: -1.95 +/- 0 [-10,10]  (free,scale=-1.95,gradient)\n",
      "  PivotEnergy ..............: 1000000 MeV (fixed,scale=1000000,gradient)\n",
      " Number of temporal par's ..: 1\n",
      "  Normalization ............: 1 (relative value) (fixed,scale=1,gradient)\n",
      " Number of scale par's .....: 0\n",
      "=== GCTAModelCubeBackground ===\n",
      " Name ......................: BackgroundModel\n",
      " Instruments ...............: CTA, HESS, MAGIC, VERITAS\n",
      " Observation identifiers ...: all\n",
      " Model type ................: \"PowerLaw\" * \"Constant\"\n",
      " Number of parameters ......: 4\n",
      " Number of spectral par's ..: 3\n",
      "  Prefactor ................: 1 +/- 0 [0.01,100] ph/cm2/s/MeV (free,scale=1,gradient)\n",
      "  Index ....................: 0 +/- 0 [-5,5]  (free,scale=1,gradient)\n",
      "  PivotEnergy ..............: 1000000 MeV (fixed,scale=1000000,gradient)\n",
      " Number of temporal par's ..: 1\n",
      "  Normalization ............: 1 (relative value) (fixed,scale=1,gradient)\n"
     ]
    }
   ],
   "source": [
    "import gammalib\n",
    "#model_tot = gammalib.GModels('/Users/adam/Project/CTA/Phys/Outputs/KESACCO_example/Ana_Model_Input_Stack.xml')\n",
    "model_tot = gammalib.GModels('/Users/adam/Project/CTA/Phys/Outputs/KESACCO_Dev/Ana_Model_Input_Stack.xml')\n",
    "print(model_tot)"
   ]
  },
  {
   "cell_type": "code",
   "execution_count": 88,
   "metadata": {},
   "outputs": [],
   "source": [
    " model_tot[1].spectral()[1].value(model_tot[1].spectral()[1].value() + 1)"
   ]
  },
  {
   "cell_type": "code",
   "execution_count": 89,
   "metadata": {},
   "outputs": [
    {
     "name": "stdout",
     "output_type": "stream",
     "text": [
      "=== GModels ===\n",
      " Number of models ..........: 4\n",
      " Number of parameters ......: 19\n",
      "=== GModelSky ===\n",
      " Name ......................: Perseus\n",
      " Instruments ...............: all\n",
      " Test Statistic ............: Computation requested\n",
      " Observation identifiers ...: all\n",
      " Model type ................: DiffuseSource\n",
      " Model components ..........: \"DiffuseMap\" * \"FileFunction\" * \"Constant\"\n",
      " Number of parameters ......: 3\n",
      " Number of spatial par's ...: 1\n",
      "  Normalization ............: 1 [0.001,1000]  (fixed,scale=1,gradient)\n",
      " Number of spectral par's ..: 1\n",
      "  Normalization ............: 1 +/- 0 [0,1000]  (free,scale=1,gradient)\n",
      " Number of temporal par's ..: 1\n",
      "  Normalization ............: 1 (relative value) (fixed,scale=1,gradient)\n",
      " Number of scale par's .....: 0\n",
      "=== GModelSky ===\n",
      " Name ......................: NGC1275\n",
      " Instruments ...............: all\n",
      " Test Statistic ............: Computation requested\n",
      " Observation identifiers ...: all\n",
      " Model type ................: PointSource\n",
      " Model components ..........: \"PointSource\" * \"PowerLaw\" * \"Constant\"\n",
      " Number of parameters ......: 6\n",
      " Number of spatial par's ...: 2\n",
      "  RA .......................: 49.9506666666667 deg (fixed,scale=1)\n",
      "  DEC ......................: 41.5116666666667 deg (fixed,scale=1)\n",
      " Number of spectral par's ..: 3\n",
      "  Prefactor ................: 2.1e-17 +/- 0 [0,infty[ ph/cm2/s/MeV (free,scale=2.1e-17,gradient)\n",
      "  Index ....................: -2.6 +/- 0 [-10,10]  (free,scale=-3.6,gradient)\n",
      "  PivotEnergy ..............: 200000 MeV (fixed,scale=200000,gradient)\n",
      " Number of temporal par's ..: 1\n",
      "  Normalization ............: 1 (relative value) (fixed,scale=1,gradient)\n",
      " Number of scale par's .....: 0\n",
      "=== GModelSky ===\n",
      " Name ......................: IC310\n",
      " Instruments ...............: all\n",
      " Test Statistic ............: Computation requested\n",
      " Observation identifiers ...: all\n",
      " Model type ................: PointSource\n",
      " Model components ..........: \"PointSource\" * \"PowerLaw\" * \"Constant\"\n",
      " Number of parameters ......: 6\n",
      " Number of spatial par's ...: 2\n",
      "  RA .......................: 49.1790833333333 deg (fixed,scale=1)\n",
      "  DEC ......................: 41.325 deg (fixed,scale=1)\n",
      " Number of spectral par's ..: 3\n",
      "  Prefactor ................: 4.3e-18 +/- 0 [0,infty[ ph/cm2/s/MeV (free,scale=4.3e-18,gradient)\n",
      "  Index ....................: -1.95 +/- 0 [-10,10]  (free,scale=-1.95,gradient)\n",
      "  PivotEnergy ..............: 1000000 MeV (fixed,scale=1000000,gradient)\n",
      " Number of temporal par's ..: 1\n",
      "  Normalization ............: 1 (relative value) (fixed,scale=1,gradient)\n",
      " Number of scale par's .....: 0\n",
      "=== GCTAModelCubeBackground ===\n",
      " Name ......................: BackgroundModel\n",
      " Instruments ...............: CTA, HESS, MAGIC, VERITAS\n",
      " Observation identifiers ...: all\n",
      " Model type ................: \"PowerLaw\" * \"Constant\"\n",
      " Number of parameters ......: 4\n",
      " Number of spectral par's ..: 3\n",
      "  Prefactor ................: 1 +/- 0 [0.01,100] ph/cm2/s/MeV (free,scale=1,gradient)\n",
      "  Index ....................: 0 +/- 0 [-5,5]  (free,scale=1,gradient)\n",
      "  PivotEnergy ..............: 1000000 MeV (fixed,scale=1000000,gradient)\n",
      " Number of temporal par's ..: 1\n",
      "  Normalization ............: 1 (relative value) (fixed,scale=1,gradient)\n"
     ]
    }
   ],
   "source": [
    "print(model_tot)"
   ]
  },
  {
   "cell_type": "code",
   "execution_count": 90,
   "metadata": {},
   "outputs": [],
   "source": [
    "model_tot.save('/Users/adam/Desktop/bid.xml')"
   ]
  },
  {
   "cell_type": "code",
   "execution_count": 91,
   "metadata": {},
   "outputs": [
    {
     "data": {
      "text/plain": [
       "-1.0000000000000009"
      ]
     },
     "execution_count": 91,
     "metadata": {},
     "output_type": "execute_result"
    }
   ],
   "source": [
    "0.722222222222222*3.6-3.6"
   ]
  },
  {
   "cell_type": "code",
   "execution_count": null,
   "metadata": {},
   "outputs": [],
   "source": []
  }
 ],
 "metadata": {
  "kernelspec": {
   "display_name": "Python 3",
   "language": "python",
   "name": "python3"
  },
  "language_info": {
   "codemirror_mode": {
    "name": "ipython",
    "version": 3
   },
   "file_extension": ".py",
   "mimetype": "text/x-python",
   "name": "python",
   "nbconvert_exporter": "python",
   "pygments_lexer": "ipython3",
   "version": "3.7.7"
  }
 },
 "nbformat": 4,
 "nbformat_minor": 2
}

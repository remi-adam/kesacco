{
 "cells": [
  {
   "cell_type": "raw",
   "metadata": {},
   "source": [
    "This notebook is used for developements dedicated to test and build the Cluster simulation with CTA."
   ]
  },
  {
   "cell_type": "markdown",
   "metadata": {},
   "source": [
    "# Import"
   ]
  },
  {
   "cell_type": "code",
   "execution_count": 1,
   "metadata": {
    "scrolled": true
   },
   "outputs": [],
   "source": [
    "import astropy.units as u\n",
    "from astropy.coordinates.sky_coordinate import SkyCoord\n",
    "from astropy.io import fits\n",
    "import numpy as np\n",
    "import matplotlib.pyplot as plt\n",
    "import os\n",
    "import copy\n",
    "\n",
    "from kesacco import clustpipe"
   ]
  },
  {
   "cell_type": "markdown",
   "metadata": {},
   "source": [
    "# Parameters"
   ]
  },
  {
   "cell_type": "markdown",
   "metadata": {},
   "source": [
    "### Define the simulation"
   ]
  },
  {
   "cell_type": "code",
   "execution_count": 2,
   "metadata": {},
   "outputs": [
    {
     "name": "stdout",
     "output_type": "stream",
     "text": [
      "===============================================================\n",
      "             _  __  ___    __    __     ___   ___   __         \n",
      "            | |/ / | __| /' _/  /  \\   / _/  / _/  /__\\        \n",
      "            |   <  | _|  `._`. | /\\ | | \\__ | \\__ | \\/ |       \n",
      "            |_|\\_\\ |___| |___/ |_||_|  \\__/  \\__/  \\__/        \n",
      "===============================================================\n",
      "Keen Event Simulation and Analysis for CTA Cluster Observations\n",
      "---------------------------------------------------------------\n"
     ]
    }
   ],
   "source": [
    "cpipe = clustpipe.ClusterPipe(silent=False, output_dir='/Users/adam/Project/CTA/Phys/Outputs/KESACCO_Dev')"
   ]
  },
  {
   "cell_type": "markdown",
   "metadata": {},
   "source": [
    "### Define the cluster object"
   ]
  },
  {
   "cell_type": "code",
   "execution_count": 3,
   "metadata": {},
   "outputs": [
    {
     "name": "stdout",
     "output_type": "stream",
     "text": [
      "--- silent\n",
      "    True\n",
      "    <class 'bool'>\n",
      "--- output_dir\n",
      "    /Users/adam/Project/CTA/Phys/Outputs/KESACCO_Dev\n",
      "    <class 'str'>\n",
      "--- cosmo\n",
      "    FlatLambdaCDM(name=\"Planck15\", H0=67.7 km / (Mpc s), Om0=0.307, Tcmb0=2.725 K, Neff=3.05, m_nu=[0.   0.   0.06] eV, Ob0=0.0486)\n",
      "    <class 'astropy.cosmology.core.FlatLambdaCDM'>\n",
      "--- name\n",
      "    Perseus\n",
      "    <class 'str'>\n",
      "--- coord\n",
      "    <SkyCoord (ICRS): (ra, dec) in deg\n",
      "    (49.94666667, 41.51305556)>\n",
      "    <class 'astropy.coordinates.sky_coordinate.SkyCoord'>\n",
      "--- redshift\n",
      "    0.017284\n",
      "    <class 'float'>\n",
      "--- D_ang\n",
      "    74.8907830317466 Mpc\n",
      "    <class 'astropy.units.quantity.Quantity'>\n",
      "--- D_lum\n",
      "    77.50198024167615 Mpc\n",
      "    <class 'astropy.units.quantity.Quantity'>\n",
      "--- M500\n",
      "    620000000000000.0 solMass\n",
      "    <class 'astropy.units.quantity.Quantity'>\n",
      "--- R500\n",
      "    1317.548394363056 kpc\n",
      "    <class 'astropy.units.quantity.Quantity'>\n",
      "--- theta500\n",
      "    1.0080007077672122 deg\n",
      "    <class 'astropy.units.quantity.Quantity'>\n",
      "--- R_truncation\n",
      "    1.9606361149510187 Mpc\n",
      "    <class 'astropy.units.quantity.Quantity'>\n",
      "--- theta_truncation\n",
      "    1.5 deg\n",
      "    <class 'astropy.units.quantity.Quantity'>\n",
      "--- helium_mass_fraction\n",
      "    0.2735\n",
      "    <class 'float'>\n",
      "--- metallicity_sol\n",
      "    0.0153\n",
      "    <class 'float'>\n",
      "--- abundance\n",
      "    0.3\n",
      "    <class 'float'>\n",
      "--- EBL_model\n",
      "    dominguez\n",
      "    <class 'str'>\n",
      "--- Rmin\n",
      "    1.0 kpc\n",
      "    <class 'astropy.units.quantity.Quantity'>\n",
      "--- hse_bias\n",
      "    0.2\n",
      "    <class 'float'>\n",
      "--- X_crp_E\n",
      "    {'X': 1.0, 'R_norm': <Quantity 1317.54839436 kpc>}\n",
      "    <class 'dict'>\n",
      "--- X_cre1_E\n",
      "    {'X': 0.0, 'R_norm': <Quantity 1317.54839436 kpc>}\n",
      "    <class 'dict'>\n",
      "--- Epmin\n",
      "    1.2179339232022073 GeV\n",
      "    <class 'astropy.units.quantity.Quantity'>\n",
      "--- Epmax\n",
      "    10.0 PeV\n",
      "    <class 'astropy.units.quantity.Quantity'>\n",
      "--- Eemin\n",
      "    0.0005109989499961641 GeV\n",
      "    <class 'astropy.units.quantity.Quantity'>\n",
      "--- Eemax\n",
      "    10.0 PeV\n",
      "    <class 'astropy.units.quantity.Quantity'>\n",
      "--- pp_interaction_model\n",
      "    Pythia8\n",
      "    <class 'str'>\n",
      "--- cre1_loss_model\n",
      "    None\n",
      "    <class 'str'>\n",
      "--- pressure_gas_model\n",
      "    {'name': 'GNFW', 'P_0': <Quantity 0.01745823 keV / cm3>, 'c500': 1.81, 'r_p': <Quantity 727.9272897 kpc>, 'a': 1.33, 'b': 4.13, 'c': 0.31}\n",
      "    <class 'dict'>\n",
      "--- density_gas_model\n",
      "    {'name': 'doublebeta', 'n_01': <Quantity 0.046 1 / cm3>, 'r_c1': <Quantity 57. kpc>, 'beta1': 1.2, 'n_02': <Quantity 0.0036 1 / cm3>, 'r_c2': <Quantity 278. kpc>, 'beta2': 0.71}\n",
      "    <class 'dict'>\n",
      "--- density_crp_model\n",
      "    {'name': 'GNFW', 'P_0': <Quantity 1. adu>, 'c500': 1.81, 'r_p': <Quantity 727.9272897 kpc>, 'a': 1.33, 'b': 4.13, 'c': 0.31}\n",
      "    <class 'dict'>\n",
      "--- density_cre1_model\n",
      "    {'name': 'GNFW', 'P_0': <Quantity 1. adu>, 'c500': 1.81, 'r_p': <Quantity 855.62300867 kpc>, 'a': 1.33, 'b': 4.13, 'c': 0.31}\n",
      "    <class 'dict'>\n",
      "--- magfield_model\n",
      "    {'name': 'GNFW', 'P_0': <Quantity 10. uG>, 'c500': 1.81, 'r_p': <Quantity 855.62300867 kpc>, 'a': 1.33, 'b': 2.065, 'c': 0.155}\n",
      "    <class 'dict'>\n",
      "--- spectrum_crp_model\n",
      "    {'name': 'PowerLaw', 'Index': 2.2}\n",
      "    <class 'dict'>\n",
      "--- spectrum_cre1_model\n",
      "    {'name': 'PowerLaw', 'PivotEnergy': <Quantity 1. TeV>, 'Index': 3.0}\n",
      "    <class 'dict'>\n",
      "--- Npt_per_decade_integ\n",
      "    30\n",
      "    <class 'int'>\n",
      "--- map_coord\n",
      "    <SkyCoord (ICRS): (ra, dec) in deg\n",
      "    (0., 0.)>\n",
      "    <class 'astropy.coordinates.sky_coordinate.SkyCoord'>\n",
      "--- map_reso\n",
      "    0.01 deg\n",
      "    <class 'astropy.units.quantity.Quantity'>\n",
      "--- map_fov\n",
      "    [5. 5.] deg\n",
      "    <class 'astropy.units.quantity.Quantity'>\n",
      "--- map_header\n",
      "    None\n",
      "    <class 'NoneType'>\n"
     ]
    }
   ],
   "source": [
    "# Set the cluster basic properties\n",
    "cpipe.cluster.name     = 'Perseus'\n",
    "cpipe.cluster.redshift = 0.017284\n",
    "cpipe.cluster.M500     = 6.2e14*u.solMass # Used for getting R500 and the pressure profile\n",
    "cpipe.cluster.coord    = SkyCoord(\"3h19m47.2s +41d30m47s\", frame='icrs')\n",
    "\n",
    "# Truncate the cluster at 1.5 deg to allow small map field of view (for faster code) without loss of flux\n",
    "cpipe.cluster.theta_truncation = 1.5*u.deg\n",
    "\n",
    "# The target gas density [Churazov et al. 2003]\n",
    "cpipe.cluster.density_gas_model = {'name':'doublebeta', 'beta1':1.2, 'r_c1':57*u.kpc, 'n_01':0.046*u.cm**-3,\n",
    "                                   'beta2':0.71, 'r_c2':278*u.kpc, 'n_02':0.0036*u.cm**-3}\n",
    "\n",
    "# The thermal profile (assuming Planck 2013 UPP)\n",
    "cpipe.cluster.set_pressure_gas_gNFW_param('P13UPP')\n",
    "\n",
    "# CR physics\n",
    "cpipe.cluster.X_cre1_E = {'X':0.0, 'R_norm':cpipe.cluster.R500}\n",
    "cpipe.cluster.spectrum_crp_model = {'name':'PowerLaw', 'Index':2.2}\n",
    "cpipe.cluster.set_density_crp_isobaric_scal_param(scal=1.0)\n",
    "cpipe.cluster.X_crp_E = {'X':1.0, 'R_norm':cpipe.cluster.R500}\n",
    "\n",
    "# Sampling\n",
    "cpipe.cluster.map_reso = 0.01*u.deg      # Ideally should be few times smaller than the PSF\n",
    "cpipe.cluster.Npt_per_decade_integ = 30\n",
    "\n",
    "# Get information about the state of the cluster model\n",
    "cpipe.cluster.print_param()"
   ]
  },
  {
   "cell_type": "markdown",
   "metadata": {},
   "source": [
    "### Define the point source object"
   ]
  },
  {
   "cell_type": "code",
   "execution_count": 4,
   "metadata": {},
   "outputs": [],
   "source": [
    "name='NGC1275'\n",
    "spatial={'type':'PointSource',\n",
    "         'param':{'RA': {'value':SkyCoord(\"3h19m48.16s +41d30m42s\").ra.to('deg'),  'free':False},\n",
    "                  'DEC':{'value':SkyCoord(\"3h19m48.16s +41d30m42s\").dec.to('deg'), 'free':False}}}\n",
    "spectral={'type':'PowerLaw',\n",
    "          'param':{'Prefactor':{'value':2.1e-11/u.cm**2/u.TeV/u.s, 'free':True},\n",
    "                   'Index':{'value':-3.6, 'free':True},\n",
    "                   'PivotEnergy':{'value':0.2*u.TeV, 'free':False}}}\n",
    "\n",
    "cpipe.compact_source.add_source(name, spatial, spectral, \n",
    "                                redshift=cpipe.cluster.redshift) # Add the source to the model"
   ]
  },
  {
   "cell_type": "code",
   "execution_count": 5,
   "metadata": {},
   "outputs": [],
   "source": [
    "name='IC310'\n",
    "spatial={'type':'PointSource',\n",
    "         'param':{'RA': {'value':SkyCoord(\"3h16m42.98s +41d19m30s\").ra.to('deg'),  'free':False},\n",
    "                  'DEC':{'value':SkyCoord(\"3h16m42.98s +41d19m30s\").dec.to('deg'), 'free':False}}}\n",
    "spectral={'type':'PowerLaw',\n",
    "          'param':{'Prefactor':{'value':4.3e-12/u.cm**2/u.TeV/u.s, 'free':True},\n",
    "                   'Index':{'value':-1.95, 'free':True},\n",
    "                   'PivotEnergy':{'value':1.0*u.TeV, 'free':False}}}\n",
    "\n",
    "cpipe.compact_source.add_source(name, spatial, spectral)# Add the source to the model"
   ]
  },
  {
   "cell_type": "code",
   "execution_count": 6,
   "metadata": {},
   "outputs": [
    {
     "name": "stdout",
     "output_type": "stream",
     "text": [
      "--- NGC1275 at z=0.017284\n",
      "    -- Spatial model: PointSource\n",
      "         RA: {'value': <Longitude 49.95066667 deg>, 'free': False}\n",
      "         DEC: {'value': <Latitude 41.51166667 deg>, 'free': False}\n",
      "    -- Spectral model: PowerLaw\n",
      "         Prefactor: {'value': <Quantity 2.1e-11 1 / (cm2 s TeV)>, 'free': True}\n",
      "         Index: {'value': -3.6, 'free': True}\n",
      "         PivotEnergy: {'value': <Quantity 0.2 TeV>, 'free': False}\n",
      "    -- Temporal model: Constant\n",
      "         Normalization: {'value': 1.0, 'free': False}\n",
      "--- IC310 at z=None\n",
      "    -- Spatial model: PointSource\n",
      "         RA: {'value': <Longitude 49.17908333 deg>, 'free': False}\n",
      "         DEC: {'value': <Latitude 41.325 deg>, 'free': False}\n",
      "    -- Spectral model: PowerLaw\n",
      "         Prefactor: {'value': <Quantity 4.3e-12 1 / (cm2 s TeV)>, 'free': True}\n",
      "         Index: {'value': -1.95, 'free': True}\n",
      "         PivotEnergy: {'value': <Quantity 1. TeV>, 'free': False}\n",
      "    -- Temporal model: Constant\n",
      "         Normalization: {'value': 1.0, 'free': False}\n"
     ]
    }
   ],
   "source": [
    "# Show the status of the compact sources in the sky model\n",
    "cpipe.compact_source.print_source()"
   ]
  },
  {
   "cell_type": "markdown",
   "metadata": {},
   "source": [
    "### Define the observations"
   ]
  },
  {
   "cell_type": "code",
   "execution_count": 7,
   "metadata": {},
   "outputs": [
    {
     "name": "stdout",
     "output_type": "stream",
     "text": [
      "=== Perseus_Ptg1, ObsID 001\n",
      "        RA-Dec:    49.94666666666666, 42.51305555555555 deg\n",
      "        GLON-GLAT: 150.0078784158764, -12.426877669678154 deg\n",
      "        ROI rad: 5.0 deg\n",
      "        tmin: 2020-01-01T00:00:00.0\n",
      "        tmax: 2020-01-01T01:00:00.0\n",
      "        emin: 0.05 TeV\n",
      "        emax: 100.0 TeV\n",
      "        deadc: 0.95\n",
      "        caldb: prod3b-v2\n",
      "        irf: North_z20_S_5h\n",
      "        bkg: name Background, obsid None, spatial type CTAIrfBackground, spectral type PowerLaw\n",
      "=== Perseus_Ptg2, ObsID 002\n",
      "        RA-Dec:    49.94666666666666, 40.51305555555555 deg\n",
      "        GLON-GLAT: 151.14097159102025, -14.095338103823554 deg\n",
      "        ROI rad: 5.0 deg\n",
      "        tmin: 2020-01-02T00:00:00.0\n",
      "        tmax: 2020-01-02T01:00:00.0\n",
      "        emin: 0.05 TeV\n",
      "        emax: 100.0 TeV\n",
      "        deadc: 0.95\n",
      "        caldb: prod3b-v2\n",
      "        irf: North_z20_S_5h\n",
      "        bkg: name Background, obsid None, spatial type CTAIrfBackground, spectral type PowerLaw\n",
      "=== Perseus_Ptg3, ObsID 003\n",
      "        RA-Dec:    50.94666666666666, 41.51305555555555 deg\n",
      "        GLON-GLAT: 151.21073146769567, -12.844456316986037 deg\n",
      "        ROI rad: 5.0 deg\n",
      "        tmin: 2020-01-03T00:00:00.0\n",
      "        tmax: 2020-01-03T01:00:00.0\n",
      "        emin: 0.05 TeV\n",
      "        emax: 100.0 TeV\n",
      "        deadc: 0.95\n",
      "        caldb: prod3b-v2\n",
      "        irf: North_z20_S_5h\n",
      "        bkg: name Background, obsid None, spatial type CTAIrfBackground, spectral type PowerLaw\n",
      "=== Perseus_Ptg4, ObsID 004\n",
      "        RA-Dec:    48.94666666666666, 41.51305555555555 deg\n",
      "        GLON-GLAT: 149.9271434329147, -13.670178764290979 deg\n",
      "        ROI rad: 5.0 deg\n",
      "        tmin: 2020-01-04T00:00:00.0\n",
      "        tmax: 2020-01-04T01:00:00.0\n",
      "        emin: 0.05 TeV\n",
      "        emax: 100.0 TeV\n",
      "        deadc: 0.95\n",
      "        caldb: prod3b-v2\n",
      "        irf: North_z20_S_5h\n",
      "        bkg: name Background, obsid None, spatial type CTAIrfBackground, spectral type PowerLaw\n"
     ]
    }
   ],
   "source": [
    "# One pointing offset +0 +1\n",
    "cpipe.obs_setup.add_obs(obsid='001', name='Perseus_Ptg1', \n",
    "                        coord=SkyCoord(cpipe.cluster.coord.ra.value+0, cpipe.cluster.coord.dec.value+1, unit='deg'),\n",
    "                        rad=5*u.deg,\n",
    "                        emin=0.05*u.TeV, emax=100*u.TeV,\n",
    "                        caldb='prod3b-v2', irf='North_z20_S_5h',\n",
    "                        tmin='2020-01-01T00:00:00.0', tmax='2020-01-01T01:00:00.0', deadc=0.95)\n",
    "\n",
    "# One pointing offset +0 -1\n",
    "cpipe.obs_setup.add_obs(obsid='002', name='Perseus_Ptg2', \n",
    "                        coord=SkyCoord(cpipe.cluster.coord.ra.value+0, cpipe.cluster.coord.dec.value-1, unit='deg'),\n",
    "                        rad=5*u.deg, \n",
    "                        emin=0.05*u.TeV, emax=100*u.TeV,\n",
    "                        caldb='prod3b-v2', irf='North_z20_S_5h',\n",
    "                        tmin='2020-01-02T00:00:00.0', tmax='2020-01-02T01:00:00.0', deadc=0.95)\n",
    "\n",
    "# One pointing offset +1 +0\n",
    "cpipe.obs_setup.add_obs(obsid='003', name='Perseus_Ptg3', \n",
    "                        coord=SkyCoord(cpipe.cluster.coord.ra.value+1, cpipe.cluster.coord.dec.value+0, unit='deg'),\n",
    "                        rad=5*u.deg,\n",
    "                        emin=0.05*u.TeV, emax=100*u.TeV,\n",
    "                        caldb='prod3b-v2', irf='North_z20_S_5h',\n",
    "                        tmin='2020-01-03T00:00:00.0', tmax='2020-01-03T01:00:00.0', deadc=0.95)\n",
    "\n",
    "# One pointing offset -1 +0\n",
    "cpipe.obs_setup.add_obs(obsid='004', name='Perseus_Ptg4', \n",
    "                        coord=SkyCoord(cpipe.cluster.coord.ra.value-1, cpipe.cluster.coord.dec.value+0, unit='deg'),\n",
    "                        rad=5*u.deg,\n",
    "                        emin=0.05*u.TeV, emax=100*u.TeV,\n",
    "                        caldb='prod3b-v2', irf='North_z20_S_5h',\n",
    "                        tmin='2020-01-04T00:00:00.0', tmax='2020-01-04T01:00:00.0', deadc=0.95)\n",
    "\n",
    "# Print info\n",
    "cpipe.obs_setup.print_obs()"
   ]
  },
  {
   "cell_type": "markdown",
   "metadata": {},
   "source": [
    "# Run the simulation"
   ]
  },
  {
   "cell_type": "raw",
   "metadata": {},
   "source": [
    "cpipe.run_sim_obs()\n",
    "cpipe.run_sim_quicklook(ShowEvent=True, ShowObsDef=True, ShowSkyModel=True, \n",
    "                        bkgsubtract='NONE', smoothing_FWHM=0.1*u.deg)"
   ]
  },
  {
   "cell_type": "markdown",
   "metadata": {},
   "source": [
    "# Run the analysis"
   ]
  },
  {
   "cell_type": "code",
   "execution_count": 8,
   "metadata": {},
   "outputs": [],
   "source": [
    "#----- Analysis parameters\n",
    "cpipe.method_binned = True    # Do a binned analysis\n",
    "cpipe.method_stack  = True    # Stack the event from different observations in a single analysis?\n",
    "cpipe.method_ana    = '3D'    # 3D or ONOFF analysis\n",
    "cpipe.spec_enumbins = 30\n",
    "cpipe.spec_emin     = 50*u.GeV\n",
    "cpipe.spec_emax     = 10*u.TeV\n",
    "cpipe.spec_edisp    = False\n",
    "\n",
    "# Force the use of the user defined map grid\n",
    "cpipe.map_UsePtgRef     = True\n",
    "# Define the map used for the binned analysis\n",
    "cpipe.map_reso          = 0.05*u.deg # Can be increaded if the code is too slow\n",
    "cpipe.map_fov           = 3*u.deg    # Can also be reduced (but should increase bkg-cluster degeneracy)\n",
    "cpipe.map_coord         = copy.deepcopy(cpipe.cluster.coord)\n",
    "# Define the map used for the template\n",
    "cpipe.cluster.map_fov   = 2.1*cpipe.cluster.theta_truncation\n",
    "cpipe.cluster.map_coord = copy.deepcopy(cpipe.cluster.coord)"
   ]
  },
  {
   "cell_type": "raw",
   "metadata": {},
   "source": [
    "cpipe.run_ana_dataprep(overwrite_data=True, overwrite_irfs=True)"
   ]
  },
  {
   "cell_type": "raw",
   "metadata": {},
   "source": [
    "cpipe.run_ana_likelihood()"
   ]
  },
  {
   "cell_type": "raw",
   "metadata": {},
   "source": [
    "cpipe.run_ana_imaging()"
   ]
  },
  {
   "cell_type": "raw",
   "metadata": {},
   "source": [
    "cpipe.run_ana_spectral()"
   ]
  },
  {
   "cell_type": "raw",
   "metadata": {},
   "source": [
    "cpipe.run_ana_plot()"
   ]
  },
  {
   "cell_type": "code",
   "execution_count": null,
   "metadata": {},
   "outputs": [
    {
     "name": "stdout",
     "output_type": "stream",
     "text": [
      "\n",
      "======================================================\n",
      "      Starting the MCMC spectral imaging analysis     \n",
      "      (including the background in the grid model)\n",
      "======================================================\n",
      "\n",
      "--- Building cluster template 1/1\n",
      "    ---> spectral = 2.0001129512548377, spatial = 0.9147602201923565\n",
      "--- Building background template 1/1\n",
      "    ---> spectral value = 0.02017489759875897\n",
      "------ Point source NGC1275\n",
      "--- Building point source template 1/1\n",
      "    ---> spectral value = 0.1220622740846623\n",
      "------ Point source IC310\n",
      "--- Building point source template 1/1\n",
      "    ---> spectral value = 0.1220622740846623\n"
     ]
    },
    {
     "name": "stderr",
     "output_type": "stream",
     "text": [
      "/Users/adam/Project/anaconda3/envs/ctaphys/lib/python3.7/site-packages/numpy/core/_asarray.py:136: VisibleDeprecationWarning: Creating an ndarray from ragged nested sequences (which is a list-or-tuple of lists-or-tuples-or ndarrays with different lengths or shapes) is deprecated. If you meant to do this, you must specify 'dtype=object' when creating the ndarray\n",
      "  return array(a, dtype, copy=False, order=order, subok=True)\n",
      "/Users/adam/Project/CTA/Phys/Software/kesacco/Tools/mcmc_spectralimaging2.py:414: RuntimeWarning: invalid value encountered in true_divide\n",
      "  syst = (model_cl_true[ibin,:,:]-model_mcmc['cluster'][ibin,:,:])/model_cl_true[ibin,:,:]*100\n",
      "/Users/adam/Project/CTA/Phys/Software/kesacco/Tools/mcmc_spectralimaging2.py:420: RuntimeWarning: invalid value encountered in true_divide\n",
      "  syst = (model_cl_true[ibin,:,:]-model_mcmc['cluster'][ibin,:,:])/model_cl_true[ibin,:,:]*100\n",
      "/Users/adam/Project/CTA/Phys/Software/kesacco/Tools/mcmc_spectralimaging2.py:428: RuntimeWarning: invalid value encountered in true_divide\n",
      "  syst = (model_cl_true[ibin,:,:]-model_mcmc['cluster'][ibin,:,:])/model_cl_true[ibin,:,:]**0.5\n",
      "/Users/adam/Project/CTA/Phys/Software/kesacco/Tools/mcmc_spectralimaging2.py:515: RuntimeWarning: invalid value encountered in true_divide\n",
      "  syst = (model_ps_true[ibin,:,:]-model_mcmc['point_sources'][ips][ibin,:,:])/model_ps_true[ibin,:,:]*100\n",
      "/Users/adam/Project/CTA/Phys/Software/kesacco/Tools/mcmc_spectralimaging2.py:521: RuntimeWarning: invalid value encountered in true_divide\n",
      "  syst = (model_ps_true[ibin,:,:]-model_mcmc['point_sources'][ips][ibin,:,:])/model_ps_true[ibin,:,:]*100\n",
      "/Users/adam/Project/CTA/Phys/Software/kesacco/Tools/mcmc_spectralimaging2.py:529: RuntimeWarning: invalid value encountered in true_divide\n",
      "  syst = (model_ps_true[ibin,:,:]-model_mcmc['point_sources'][ips][ibin,:,:])/model_ps_true[ibin,:,:]**0.5\n",
      "/Users/adam/Project/CTA/Phys/Software/kesacco/Tools/mcmc_spectralimaging2.py:515: RuntimeWarning: invalid value encountered in true_divide\n",
      "  syst = (model_ps_true[ibin,:,:]-model_mcmc['point_sources'][ips][ibin,:,:])/model_ps_true[ibin,:,:]*100\n",
      "/Users/adam/Project/CTA/Phys/Software/kesacco/Tools/mcmc_spectralimaging2.py:521: RuntimeWarning: invalid value encountered in true_divide\n",
      "  syst = (model_ps_true[ibin,:,:]-model_mcmc['point_sources'][ips][ibin,:,:])/model_ps_true[ibin,:,:]*100\n",
      "/Users/adam/Project/CTA/Phys/Software/kesacco/Tools/mcmc_spectralimaging2.py:529: RuntimeWarning: invalid value encountered in true_divide\n",
      "  syst = (model_ps_true[ibin,:,:]-model_mcmc['point_sources'][ips][ibin,:,:])/model_ps_true[ibin,:,:]**0.5\n"
     ]
    },
    {
     "name": "stdout",
     "output_type": "stream",
     "text": [
      "--- Building cluster template 1/1\n",
      "    ---> spectral = 2.0930467093204794, spatial = 0.9034425721498807\n"
     ]
    }
   ],
   "source": [
    "cpipe.mcmc_burnin = 100\n",
    "cpipe.mcmc_nsteps = 1000\n",
    "cpipe.run_ana_mcmc_spectralimaging(reset_modelgrid=False,\n",
    "                                   reset_mcmc=False, run_mcmc=False, GaussLike=False,\n",
    "                                   spatial_range=[0.5,1.5], spatial_npt=5, spectral_range=[2.0,2.6], spectral_npt=5,\n",
    "                                   bkg_marginalize=False,\n",
    "                                   bkg_spectral_npt=11, bkg_spectral_range=[-0.05,0.05],\n",
    "                                   ps_spectral_npt=11, ps_spectral_range=[-0.3,0.3],\n",
    "                                   rm_tmp=False, grid_validation=True,\n",
    "                                   FWHM=0.1*u.deg,\n",
    "                                   theta=1.0*u.deg,\n",
    "                                   coord=None,\n",
    "                                   profile_reso=0.05*u.deg,\n",
    "                                   includeIC=False)"
   ]
  }
 ],
 "metadata": {
  "kernelspec": {
   "display_name": "Python 3",
   "language": "python",
   "name": "python3"
  },
  "language_info": {
   "codemirror_mode": {
    "name": "ipython",
    "version": 3
   },
   "file_extension": ".py",
   "mimetype": "text/x-python",
   "name": "python",
   "nbconvert_exporter": "python",
   "pygments_lexer": "ipython3",
   "version": "3.7.7"
  }
 },
 "nbformat": 4,
 "nbformat_minor": 2
}
